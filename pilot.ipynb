{
 "cells": [
  {
   "cell_type": "code",
   "execution_count": 1,
   "metadata": {},
   "outputs": [],
   "source": [
    "import numpy as np\n",
    "import cv2\n",
    "import moviepy.editor as mp\n",
    "from pydub import AudioSegment\n",
    "from pydub.silence import split_on_silence"
   ]
  },
  {
   "cell_type": "code",
   "execution_count": 2,
   "metadata": {},
   "outputs": [],
   "source": [
    "video_file = \"samp_video.mp4\"\n",
    "audio_file = \"audio_\" + video_file[:-3] + \"wav\""
   ]
  },
  {
   "cell_type": "code",
   "execution_count": 3,
   "metadata": {},
   "outputs": [],
   "source": [
    "video = cv2.VideoCapture(video_file)\n",
    "fps = video.get(cv2.CAP_PROP_FPS)\n",
    "video.release()"
   ]
  },
  {
   "cell_type": "code",
   "execution_count": 4,
   "metadata": {},
   "outputs": [
    {
     "name": "stdout",
     "output_type": "stream",
     "text": [
      "MoviePy - Writing audio in audio_samp_video.wav\n"
     ]
    },
    {
     "name": "stderr",
     "output_type": "stream",
     "text": [
      "                                                                    "
     ]
    },
    {
     "name": "stdout",
     "output_type": "stream",
     "text": [
      "MoviePy - Done.\n"
     ]
    },
    {
     "name": "stderr",
     "output_type": "stream",
     "text": [
      "\r"
     ]
    }
   ],
   "source": [
    "video_clip = mp.VideoFileClip(video_file)\n",
    "audio_clip = video_clip.audio\n",
    "audio_clip.write_audiofile(audio_file)"
   ]
  },
  {
   "cell_type": "code",
   "execution_count": 6,
   "metadata": {},
   "outputs": [
    {
     "data": {
      "text/plain": [
       "<_io.BufferedRandom name='video_without_silence.wav'>"
      ]
     },
     "execution_count": 6,
     "metadata": {},
     "output_type": "execute_result"
    }
   ],
   "source": [
    "audio = AudioSegment.from_file(audio_file)\n",
    "silence_threshold = -40 # dB\n",
    "silence_duration = 100  # ms\n",
    "chunks = split_on_silence(audio, min_silence_len=silence_duration, silence_thresh=silence_threshold)\n",
    "\n",
    "voiced_audio = chunks[0]\n",
    "\n",
    "for chunk in chunks[1:]:\n",
    "    voiced_audio += chunk\n",
    "\n",
    "voiced_audio.export(\"video_without_silence.wav\", format=\"wav\")"
   ]
  },
  {
   "cell_type": "code",
   "execution_count": 7,
   "metadata": {},
   "outputs": [
    {
     "ename": "TypeError",
     "evalue": "object of type 'generator' has no len()",
     "output_type": "error",
     "traceback": [
      "\u001b[1;31m---------------------------------------------------------------------------\u001b[0m",
      "\u001b[1;31mTypeError\u001b[0m                                 Traceback (most recent call last)",
      "Cell \u001b[1;32mIn[7], line 4\u001b[0m\n\u001b[0;32m      1\u001b[0m step_size \u001b[39m=\u001b[39m \u001b[39mint\u001b[39m(\u001b[39m1000\u001b[39m\u001b[39m/\u001b[39mfps)\n\u001b[0;32m      3\u001b[0m frames \u001b[39m=\u001b[39m audio[::step_size]\n\u001b[1;32m----> 4\u001b[0m frame_count \u001b[39m=\u001b[39m \u001b[39mlen\u001b[39;49m(frames)\n\u001b[0;32m      6\u001b[0m energies \u001b[39m=\u001b[39m []\n\u001b[0;32m      7\u001b[0m \u001b[39mfor\u001b[39;00m i \u001b[39min\u001b[39;00m \u001b[39mrange\u001b[39m(frame_count):\n",
      "\u001b[1;31mTypeError\u001b[0m: object of type 'generator' has no len()"
     ]
    }
   ],
   "source": [
    "step_size = int(1000/fps)\n",
    "\n",
    "frames = audio[::step_size]\n",
    "frame_count = len(frames)\n",
    "\n",
    "energies = []\n",
    "for i in range(frame_count):\n",
    "    frame = frames[i]\n",
    "    rms_energy = frame.rms\n",
    "    energies.append(rms_energy)\n",
    "\n",
    "threshold = np.mean(energies)\n",
    "\n",
    "labels = []\n",
    "for energy in energies:\n",
    "    if energy > threshold:\n",
    "        labels.append(1)\n",
    "    else:\n",
    "        labels.append(0)\n"
   ]
  },
  {
   "cell_type": "code",
   "execution_count": null,
   "metadata": {},
   "outputs": [],
   "source": []
  }
 ],
 "metadata": {
  "kernelspec": {
   "display_name": "base",
   "language": "python",
   "name": "python3"
  },
  "language_info": {
   "codemirror_mode": {
    "name": "ipython",
    "version": 3
   },
   "file_extension": ".py",
   "mimetype": "text/x-python",
   "name": "python",
   "nbconvert_exporter": "python",
   "pygments_lexer": "ipython3",
   "version": "3.10.9"
  },
  "orig_nbformat": 4
 },
 "nbformat": 4,
 "nbformat_minor": 2
}
